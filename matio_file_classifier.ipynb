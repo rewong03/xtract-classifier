{
 "cells": [
  {
   "cell_type": "code",
   "execution_count": 23,
   "metadata": {},
   "outputs": [],
   "source": [
    "import csv\n",
    "\n",
    "file_paths = []\n",
    "labels = []\n",
    "\n",
    "with open('automated_training_results/matio_results/nist_dataset.csv') as csv_file:\n",
    "    csv_reader = csv.reader(csv_file, delimiter=',')\n",
    "    for line in csv_reader:\n",
    "        file_paths.append(line[0])\n",
    "        labels.append(line[2])\n",
    "    file_paths.pop(0)\n",
    "    labels.pop(0)"
   ]
  },
  {
   "cell_type": "code",
   "execution_count": 27,
   "metadata": {},
   "outputs": [
    {
     "name": "stdout",
     "output_type": "stream",
     "text": [
      "207694\n",
      "111706\n"
     ]
    }
   ],
   "source": [
    "import numpy as np\n",
    "\n",
    "values, counts = np.unique(file_paths, return_counts=True)\n",
    "for idx, path in enumerate():\n",
    "    print(value)\n",
    "    print(counts[idx])"
   ]
  },
  {
   "cell_type": "code",
   "execution_count": null,
   "metadata": {},
   "outputs": [],
   "source": []
  }
 ],
 "metadata": {
  "kernelspec": {
   "display_name": "Python 3",
   "language": "python",
   "name": "python3"
  },
  "language_info": {
   "codemirror_mode": {
    "name": "ipython",
    "version": 3
   },
   "file_extension": ".py",
   "mimetype": "text/x-python",
   "name": "python",
   "nbconvert_exporter": "python",
   "pygments_lexer": "ipython3",
   "version": "3.7.5"
  }
 },
 "nbformat": 4,
 "nbformat_minor": 2
}
