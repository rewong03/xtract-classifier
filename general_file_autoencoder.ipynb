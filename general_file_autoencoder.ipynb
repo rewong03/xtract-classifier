{
 "cells": [
  {
   "cell_type": "markdown",
   "metadata": {},
   "source": [
    "# File Autoencoder"
   ]
  },
  {
   "cell_type": "markdown",
   "metadata": {},
   "source": [
    "### Feature Preprocessing"
   ]
  },
  {
   "cell_type": "code",
   "execution_count": null,
   "metadata": {
    "scrolled": true
   },
   "outputs": [],
   "source": [
    "from sklearn.model_selection import train_test_split\n",
    "from ml_utils import feature_from_dir, translate_bytes\n",
    "import time\n",
    "\n",
    "test_set_dir = \"/Users/ryan/Documents/CS/CDAC/official_xtract/sampler_dataset/pub8\"\n",
    "\n",
    "raw_features = feature_from_dir(test_set_dir, byte_num=512)\n",
    "untranslated_features = translate_bytes(raw_features)\n",
    "\n",
    "x = untranslated_features / 255\n",
    "x_train, x_test, _, _ = train_test_split(x, x)\n",
    "\n",
    "print(len(x))"
   ]
  },
  {
   "cell_type": "markdown",
   "metadata": {},
   "source": [
    "### Model"
   ]
  },
  {
   "cell_type": "code",
   "execution_count": null,
   "metadata": {
    "scrolled": true
   },
   "outputs": [],
   "source": [
    "from keras.models import Model\n",
    "from keras.layers import Input, Dense\n",
    "from keras.callbacks import EarlyStopping\n",
    "\n",
    "input_size = len(x_train[0])\n",
    "\n",
    "input_layer = Input((input_size,))\n",
    "encoded = Dense(256, activation='relu')(input_layer)\n",
    "encoded = Dense(128, activation='relu')(encoded)\n",
    "encoded = Dense(64, activation='relu')(encoded)\n",
    "decoded = Dense(128, activation='relu')(encoded)\n",
    "decoded = Dense(256, activation='relu')(decoded) \n",
    "decoded = Dense(input_size, activation='sigmoid')(decoded)\n",
    "\n",
    "autoencoder = Model(inputs=input_layer, outputs=decoded)\n",
    "autoencoder.compile(optimizer='adam', loss='binary_crossentropy', metrics=['accuracy'])\n",
    "autoencoder.summary()\n",
    "\n",
    "history = autoencoder.fit(x_train, x_train,\n",
    "                          epochs=100,\n",
    "                          batch_size = 256,\n",
    "                          shuffle=True,\n",
    "                          callbacks=[EarlyStopping()],\n",
    "                          validation_data=(x_test, x_test))\n",
    "\n",
    "encoder = Model(input_layer, encoded)\n"
   ]
  },
  {
   "cell_type": "markdown",
   "metadata": {},
   "source": [
    "### Results visualization"
   ]
  },
  {
   "cell_type": "code",
   "execution_count": null,
   "metadata": {},
   "outputs": [],
   "source": [
    "%%capture --no-display \n",
    "import matplotlib.pyplot as plt\n",
    "\n",
    "# set up figure\n",
    "f = plt.figure(figsize=(12,5))\n",
    "f.add_subplot(1,2, 1)\n",
    "\n",
    "# plot accuracy as a function of epoch\n",
    "plt.plot(history.history['acc'])\n",
    "plt.plot(history.history['val_acc'])\n",
    "plt.title('model accuracy')\n",
    "plt.ylabel('accuracy')\n",
    "plt.xlabel('epoch')\n",
    "plt.legend(['training', 'validation'], loc='best')\n",
    "\n",
    "# plot loss as a function of epoch\n",
    "f.add_subplot(1,2, 2)\n",
    "plt.plot(history.history['loss'])\n",
    "plt.plot(history.history['val_loss'])\n",
    "plt.title('model loss')\n",
    "plt.ylabel('loss')\n",
    "plt.xlabel('epoch')\n",
    "plt.legend(['training', 'validation'], loc='best')\n",
    "plt.show(block=True)"
   ]
  },
  {
   "cell_type": "markdown",
   "metadata": {},
   "source": [
    "# File Classifier"
   ]
  },
  {
   "cell_type": "markdown",
   "metadata": {},
   "source": [
    "### Loading Autoencoder Model"
   ]
  },
  {
   "cell_type": "code",
   "execution_count": 1,
   "metadata": {
    "scrolled": true
   },
   "outputs": [
    {
     "name": "stderr",
     "output_type": "stream",
     "text": [
      "Using TensorFlow backend.\n",
      "WARNING: Logging before flag parsing goes to stderr.\n",
      "W1120 10:39:13.917917 4337505728 deprecation_wrapper.py:119] From /Users/ryan/anaconda3/envs/xtract/lib/python3.7/site-packages/keras/backend/tensorflow_backend.py:517: The name tf.placeholder is deprecated. Please use tf.compat.v1.placeholder instead.\n",
      "\n",
      "W1120 10:39:13.931505 4337505728 deprecation_wrapper.py:119] From /Users/ryan/anaconda3/envs/xtract/lib/python3.7/site-packages/keras/backend/tensorflow_backend.py:4138: The name tf.random_uniform is deprecated. Please use tf.random.uniform instead.\n",
      "\n",
      "W1120 10:39:13.976327 4337505728 deprecation_wrapper.py:119] From /Users/ryan/anaconda3/envs/xtract/lib/python3.7/site-packages/keras/backend/tensorflow_backend.py:174: The name tf.get_default_session is deprecated. Please use tf.compat.v1.get_default_session instead.\n",
      "\n",
      "W1120 10:39:13.977170 4337505728 deprecation_wrapper.py:119] From /Users/ryan/anaconda3/envs/xtract/lib/python3.7/site-packages/keras/backend/tensorflow_backend.py:181: The name tf.ConfigProto is deprecated. Please use tf.compat.v1.ConfigProto instead.\n",
      "\n",
      "W1120 10:39:13.977739 4337505728 deprecation_wrapper.py:119] From /Users/ryan/anaconda3/envs/xtract/lib/python3.7/site-packages/keras/backend/tensorflow_backend.py:186: The name tf.Session is deprecated. Please use tf.compat.v1.Session instead.\n",
      "\n",
      "/Users/ryan/anaconda3/envs/xtract/lib/python3.7/site-packages/keras/engine/saving.py:292: UserWarning: No training configuration found in save file: the model was *not* compiled. Compile it manually.\n",
      "  warnings.warn('No training configuration found in save file: '\n"
     ]
    }
   ],
   "source": [
    "from keras.models import load_model\n",
    "\n",
    "encoder = load_model(\"encoder_model.h5\")"
   ]
  },
  {
   "cell_type": "markdown",
   "metadata": {},
   "source": [
    "### Feature and Label Grabbing"
   ]
  },
  {
   "cell_type": "code",
   "execution_count": 2,
   "metadata": {},
   "outputs": [
    {
     "name": "stdout",
     "output_type": "stream",
     "text": [
      "(7894, 64)\n"
     ]
    }
   ],
   "source": [
    "from sklearn.preprocessing import LabelEncoder\n",
    "from sklearn.model_selection import train_test_split\n",
    "from keras.utils import to_categorical\n",
    "from ml_utils import grab_labels, feature_from_file, translate_bytes\n",
    "import csv\n",
    "\n",
    "le = LabelEncoder()\n",
    "naivetruth_path = \"/Users/ryan/Documents/CS/CDAC/xtract_autoencoder/automated_training_results/balanced_cdiac_subset.csv\"\n",
    "\n",
    "labels, file_paths = grab_labels(naivetruth_path)\n",
    "labels.pop(0) #Gets rid of headers\n",
    "file_paths.pop(0)\n",
    "\n",
    "x = []\n",
    "\n",
    "for file_path in file_paths:\n",
    "    x.append(feature_from_file(file_path))\n",
    "\n",
    "x = encoder.predict(translate_bytes(x) / 255)\n",
    "y = to_categorical(le.fit_transform(labels), 6)\n",
    "\n",
    "x_train, x_test, y_train, y_test = train_test_split(x, y)\n",
    "\n",
    "print(x_train.shape)"
   ]
  },
  {
   "cell_type": "code",
   "execution_count": 3,
   "metadata": {},
   "outputs": [
    {
     "name": "stdout",
     "output_type": "stream",
     "text": [
      "['freetext' 'image' 'json/xml' 'netcdf' 'tabular' 'unknown']\n",
      "tabular is 25.470264107923235 and there are 2681 files\n",
      "unknown is 22.81968459053772 and there are 2402 files\n",
      "netcdf is 2.4320729621888657 and there are 256 files\n",
      "json/xml is 22.800684020520613 and there are 2400 files\n",
      "image is 3.6766102983089493 and there are 387 files\n",
      "freetext is 22.800684020520613 and there are 2400 files\n"
     ]
    }
   ],
   "source": [
    "print(le.classes_)\n",
    "for unique in set(labels):\n",
    "    print(\"{} is {} and there are {} files\".format(unique, ((labels.count(unique) / len(labels)) * 100), labels.count(unique)))"
   ]
  },
  {
   "cell_type": "markdown",
   "metadata": {},
   "source": [
    "## Deep Classifier Model"
   ]
  },
  {
   "cell_type": "code",
   "execution_count": null,
   "metadata": {
    "scrolled": true
   },
   "outputs": [],
   "source": [
    "from keras.models import Sequential\n",
    "from keras.layers import Dense\n",
    "from keras.callbacks import EarlyStopping\n",
    "\n",
    "classifier_dim = len(x[0])\n",
    "output_dim = len(y[0])\n",
    "\n",
    "classifier_model = Sequential()\n",
    "classifier_model.add(Dense(128, activation='relu', input_shape=(classifier_dim,)))\n",
    "classifier_model.add(Dense(100, activation='relu'))\n",
    "classifier_model.add(Dense(64, activation='relu'))\n",
    "classifier_model.add(Dense(32, activation='relu'))\n",
    "classifier_model.add(Dense(16, activation='relu'))\n",
    "classifier_model.add(Dense(8, activation='relu'))\n",
    "classifier_model.add(Dense(output_dim, activation='softmax'))\n",
    "\n",
    "classifier_model.compile(optimizer='adam', loss='categorical_crossentropy', metrics=['accuracy'])\n",
    "classifier_model.summary()\n",
    "\n",
    "history = classifier_model.fit(x_train, y_train,\n",
    "                               epochs=50,\n",
    "                               batch_size = 16,\n",
    "                               shuffle=True,\n",
    "                               validation_data=(x_test, y_test)) "
   ]
  },
  {
   "cell_type": "code",
   "execution_count": null,
   "metadata": {},
   "outputs": [],
   "source": [
    "%%capture --no-display \n",
    "\n",
    "import matplotlib.pyplot as plt\n",
    "\n",
    "# set up figure\n",
    "f = plt.figure(figsize=(12,5))\n",
    "f.add_subplot(1,2, 1)\n",
    "\n",
    "# plot accuracy as a function of epoch\n",
    "plt.plot(history.history['acc'])\n",
    "plt.plot(history.history['val_acc'])\n",
    "plt.title('Model Accuracy')\n",
    "plt.ylabel('accuracy')\n",
    "plt.xlabel('epoch')\n",
    "plt.legend(['training', 'validation'], loc='best')\n",
    "\n",
    "# plot loss as a function of epoch\n",
    "f.add_subplot(1,2, 2)\n",
    "plt.plot(history.history['loss'])\n",
    "plt.plot(history.history['val_loss'])\n",
    "plt.title('Model Loss')\n",
    "plt.ylabel('loss')\n",
    "plt.xlabel('epoch')\n",
    "plt.legend(['training', 'validation'], loc='best')\n",
    "plt.show(block=True)"
   ]
  },
  {
   "cell_type": "markdown",
   "metadata": {},
   "source": [
    "### Validation Results (Binary Classifier):\n",
    " - Trained on cdiac_subset:\n",
    "     - cdiac_naivetruth: 0.87\n",
    "     - nist_subset: 0.77\n",
    "     - cdiac_subset: 0.91\n",
    " - Trained on cdiac_naivetruth:\n",
    "     - cdiac_naivetruth: 0.92\n",
    "     - nist_subset: 0.82\n",
    "     - cdiac_subset: 0.94\n",
    " - Trained on nist_subset:\n",
    "     - cdiac_naivetruth: 0.65\n",
    "     - nist_subset: 0.96\n",
    "     - cdiac_subset: 0.65 "
   ]
  },
  {
   "cell_type": "markdown",
   "metadata": {},
   "source": [
    "### Validation Results (Categorical Classifier) (32,28,24,16,8,6 inputs):\n",
    " - Trained on cdiac_subset:\n",
    "     - cdiac_naivetruth: 0.80\n",
    "     - nist_subset: 0.50\n",
    "     - cdiac_subset: 0.89\n",
    " - Trained on cdiac_naivetruth (adam optimizer):\n",
    "     - cdiac_naivetruth: 0.91\n",
    "     - nist_subset: 0.50\n",
    "     - cdiac_subset: 0.87\n",
    " - Trained on nist_subset:\n",
    "     - cdiac_naivetruth: 0.40\n",
    "     - nist_subset: 0.93\n",
    "     - cdiac_subset: 0.43"
   ]
  },
  {
   "cell_type": "markdown",
   "metadata": {},
   "source": [
    "## Convolutional Model"
   ]
  },
  {
   "cell_type": "code",
   "execution_count": 4,
   "metadata": {
    "scrolled": true
   },
   "outputs": [
    {
     "name": "stderr",
     "output_type": "stream",
     "text": [
      "W1120 10:39:18.837872 4337505728 deprecation_wrapper.py:119] From /Users/ryan/anaconda3/envs/xtract/lib/python3.7/site-packages/keras/backend/tensorflow_backend.py:3976: The name tf.nn.max_pool is deprecated. Please use tf.nn.max_pool2d instead.\n",
      "\n",
      "W1120 10:39:18.921439 4337505728 deprecation_wrapper.py:119] From /Users/ryan/anaconda3/envs/xtract/lib/python3.7/site-packages/keras/optimizers.py:790: The name tf.train.Optimizer is deprecated. Please use tf.compat.v1.train.Optimizer instead.\n",
      "\n",
      "W1120 10:39:18.998682 4337505728 deprecation.py:323] From /Users/ryan/anaconda3/envs/xtract/lib/python3.7/site-packages/tensorflow/python/ops/math_grad.py:1250: add_dispatch_support.<locals>.wrapper (from tensorflow.python.ops.array_ops) is deprecated and will be removed in a future version.\n",
      "Instructions for updating:\n",
      "Use tf.where in 2.0, which has the same broadcast rule as np.where\n"
     ]
    },
    {
     "name": "stdout",
     "output_type": "stream",
     "text": [
      "_________________________________________________________________\n",
      "Layer (type)                 Output Shape              Param #   \n",
      "=================================================================\n",
      "reshape_1 (Reshape)          (None, 64, 1)             0         \n",
      "_________________________________________________________________\n",
      "conv1d_1 (Conv1D)            (None, 49, 50)            850       \n",
      "_________________________________________________________________\n",
      "max_pooling1d_1 (MaxPooling1 (None, 24, 50)            0         \n",
      "_________________________________________________________________\n",
      "conv1d_2 (Conv1D)            (None, 9, 50)             40050     \n",
      "_________________________________________________________________\n",
      "global_max_pooling1d_1 (Glob (None, 50)                0         \n",
      "_________________________________________________________________\n",
      "dense_1 (Dense)              (None, 50)                2550      \n",
      "_________________________________________________________________\n",
      "dense_2 (Dense)              (None, 32)                1632      \n",
      "_________________________________________________________________\n",
      "dense_3 (Dense)              (None, 28)                924       \n",
      "_________________________________________________________________\n",
      "dense_4 (Dense)              (None, 24)                696       \n",
      "_________________________________________________________________\n",
      "dense_5 (Dense)              (None, 16)                400       \n",
      "_________________________________________________________________\n",
      "dense_6 (Dense)              (None, 8)                 136       \n",
      "_________________________________________________________________\n",
      "dense_7 (Dense)              (None, 6)                 54        \n",
      "=================================================================\n",
      "Total params: 47,292\n",
      "Trainable params: 47,292\n",
      "Non-trainable params: 0\n",
      "_________________________________________________________________\n",
      "Train on 7894 samples, validate on 2632 samples\n",
      "Epoch 1/50\n",
      "7894/7894 [==============================] - 2s 191us/step - loss: 1.0093 - acc: 0.5641 - val_loss: 0.6310 - val_acc: 0.6957\n",
      "Epoch 2/50\n",
      "7894/7894 [==============================] - 1s 126us/step - loss: 0.4633 - acc: 0.8295 - val_loss: 0.3595 - val_acc: 0.8917\n",
      "Epoch 3/50\n",
      "7894/7894 [==============================] - 1s 127us/step - loss: 0.2995 - acc: 0.9074 - val_loss: 0.2739 - val_acc: 0.9168\n",
      "Epoch 4/50\n",
      "7894/7894 [==============================] - 1s 129us/step - loss: 0.2541 - acc: 0.9188 - val_loss: 0.2558 - val_acc: 0.9221\n",
      "Epoch 5/50\n",
      "7894/7894 [==============================] - 1s 127us/step - loss: 0.2286 - acc: 0.9288 - val_loss: 0.2469 - val_acc: 0.9255\n",
      "Epoch 6/50\n",
      "7894/7894 [==============================] - 1s 125us/step - loss: 0.2144 - acc: 0.9312 - val_loss: 0.2348 - val_acc: 0.9252\n",
      "Epoch 7/50\n",
      "7894/7894 [==============================] - 1s 122us/step - loss: 0.1941 - acc: 0.9358 - val_loss: 0.2278 - val_acc: 0.9278\n",
      "Epoch 8/50\n",
      "7894/7894 [==============================] - 1s 123us/step - loss: 0.1907 - acc: 0.9355 - val_loss: 0.2651 - val_acc: 0.9259\n",
      "Epoch 9/50\n",
      "7894/7894 [==============================] - 1s 123us/step - loss: 0.1871 - acc: 0.9378 - val_loss: 0.2125 - val_acc: 0.9339\n",
      "Epoch 10/50\n",
      "7894/7894 [==============================] - 1s 123us/step - loss: 0.1730 - acc: 0.9430 - val_loss: 0.2040 - val_acc: 0.9377\n",
      "Epoch 11/50\n",
      "7894/7894 [==============================] - 1s 117us/step - loss: 0.1696 - acc: 0.9436 - val_loss: 0.1932 - val_acc: 0.9419\n",
      "Epoch 12/50\n",
      "7894/7894 [==============================] - 1s 118us/step - loss: 0.1657 - acc: 0.9458 - val_loss: 0.2053 - val_acc: 0.9331\n",
      "Epoch 13/50\n",
      "7894/7894 [==============================] - 1s 118us/step - loss: 0.1662 - acc: 0.9436 - val_loss: 0.1962 - val_acc: 0.9343\n",
      "Epoch 14/50\n",
      "7894/7894 [==============================] - 1s 117us/step - loss: 0.1508 - acc: 0.9483 - val_loss: 0.1970 - val_acc: 0.9331\n",
      "Epoch 15/50\n",
      "7894/7894 [==============================] - 1s 118us/step - loss: 0.1502 - acc: 0.9483 - val_loss: 0.1994 - val_acc: 0.9400\n",
      "Epoch 16/50\n",
      "7894/7894 [==============================] - 1s 118us/step - loss: 0.1554 - acc: 0.9455 - val_loss: 0.2635 - val_acc: 0.9092\n",
      "Epoch 17/50\n",
      "7894/7894 [==============================] - 1s 177us/step - loss: 0.1410 - acc: 0.9507 - val_loss: 0.2040 - val_acc: 0.9384\n",
      "Epoch 18/50\n",
      "7894/7894 [==============================] - 1s 139us/step - loss: 0.1376 - acc: 0.9502 - val_loss: 0.1900 - val_acc: 0.9407\n",
      "Epoch 19/50\n",
      "7894/7894 [==============================] - 1s 146us/step - loss: 0.1362 - acc: 0.9506 - val_loss: 0.2131 - val_acc: 0.9343\n",
      "Epoch 20/50\n",
      "7894/7894 [==============================] - 1s 129us/step - loss: 0.1403 - acc: 0.9487 - val_loss: 0.1812 - val_acc: 0.9415\n",
      "Epoch 21/50\n",
      "7894/7894 [==============================] - 1s 120us/step - loss: 0.1288 - acc: 0.9515 - val_loss: 0.1874 - val_acc: 0.9369\n",
      "Epoch 22/50\n",
      "7894/7894 [==============================] - 1s 119us/step - loss: 0.1277 - acc: 0.9530 - val_loss: 0.1800 - val_acc: 0.9487\n",
      "Epoch 23/50\n",
      "7894/7894 [==============================] - 1s 119us/step - loss: 0.1197 - acc: 0.9552 - val_loss: 0.1841 - val_acc: 0.9472\n",
      "Epoch 24/50\n",
      "7894/7894 [==============================] - 1s 123us/step - loss: 0.1242 - acc: 0.9562 - val_loss: 0.1788 - val_acc: 0.9460\n",
      "Epoch 25/50\n",
      "7894/7894 [==============================] - 1s 120us/step - loss: 0.1161 - acc: 0.9587 - val_loss: 0.1990 - val_acc: 0.9392\n",
      "Epoch 26/50\n",
      "7894/7894 [==============================] - 1s 122us/step - loss: 0.1232 - acc: 0.9530 - val_loss: 0.1754 - val_acc: 0.9438\n",
      "Epoch 27/50\n",
      "7894/7894 [==============================] - 1s 130us/step - loss: 0.1200 - acc: 0.9569 - val_loss: 0.1747 - val_acc: 0.9487\n",
      "Epoch 28/50\n",
      "7894/7894 [==============================] - 1s 137us/step - loss: 0.1068 - acc: 0.9617 - val_loss: 0.1849 - val_acc: 0.9479\n",
      "Epoch 29/50\n",
      "7894/7894 [==============================] - 1s 120us/step - loss: 0.1037 - acc: 0.9612 - val_loss: 0.2015 - val_acc: 0.9392\n",
      "Epoch 30/50\n",
      "7894/7894 [==============================] - 1s 120us/step - loss: 0.1042 - acc: 0.9597 - val_loss: 0.1795 - val_acc: 0.9445\n",
      "Epoch 31/50\n",
      "7894/7894 [==============================] - 1s 120us/step - loss: 0.0933 - acc: 0.9671 - val_loss: 0.1772 - val_acc: 0.9449\n",
      "Epoch 32/50\n",
      "7894/7894 [==============================] - 1s 121us/step - loss: 0.1075 - acc: 0.9595 - val_loss: 0.1793 - val_acc: 0.9392\n",
      "Epoch 33/50\n",
      "7894/7894 [==============================] - 1s 125us/step - loss: 0.1087 - acc: 0.9611 - val_loss: 0.1873 - val_acc: 0.9396\n",
      "Epoch 34/50\n",
      "7894/7894 [==============================] - 1s 124us/step - loss: 0.0895 - acc: 0.9674 - val_loss: 0.1797 - val_acc: 0.9487\n",
      "Epoch 35/50\n",
      "7894/7894 [==============================] - 1s 135us/step - loss: 0.0909 - acc: 0.9673 - val_loss: 0.1978 - val_acc: 0.9426\n",
      "Epoch 36/50\n",
      "7894/7894 [==============================] - 1s 145us/step - loss: 0.0920 - acc: 0.9663 - val_loss: 0.1992 - val_acc: 0.9419\n",
      "Epoch 37/50\n",
      "7894/7894 [==============================] - 1s 133us/step - loss: 0.0879 - acc: 0.9677 - val_loss: 0.1870 - val_acc: 0.9491\n",
      "Epoch 38/50\n",
      "7894/7894 [==============================] - 1s 121us/step - loss: 0.0878 - acc: 0.9687 - val_loss: 0.1907 - val_acc: 0.9422\n",
      "Epoch 39/50\n",
      "7894/7894 [==============================] - 1s 124us/step - loss: 0.0896 - acc: 0.9664 - val_loss: 0.1690 - val_acc: 0.9495\n",
      "Epoch 40/50\n",
      "7894/7894 [==============================] - 1s 127us/step - loss: 0.0823 - acc: 0.9683 - val_loss: 0.1697 - val_acc: 0.9498\n",
      "Epoch 41/50\n",
      "7894/7894 [==============================] - 1s 130us/step - loss: 0.0840 - acc: 0.9680 - val_loss: 0.1878 - val_acc: 0.9483\n",
      "Epoch 42/50\n",
      "7894/7894 [==============================] - 1s 129us/step - loss: 0.0840 - acc: 0.9700 - val_loss: 0.1741 - val_acc: 0.9491\n",
      "Epoch 43/50\n",
      "7894/7894 [==============================] - 1s 119us/step - loss: 0.0787 - acc: 0.9707 - val_loss: 0.1972 - val_acc: 0.9460\n",
      "Epoch 44/50\n",
      "7894/7894 [==============================] - 1s 129us/step - loss: 0.0985 - acc: 0.9680 - val_loss: 0.1680 - val_acc: 0.9525\n",
      "Epoch 45/50\n",
      "7894/7894 [==============================] - 1s 129us/step - loss: 0.0723 - acc: 0.9723 - val_loss: 0.1925 - val_acc: 0.9502\n",
      "Epoch 46/50\n"
     ]
    },
    {
     "name": "stdout",
     "output_type": "stream",
     "text": [
      "7894/7894 [==============================] - 1s 164us/step - loss: 0.0819 - acc: 0.9729 - val_loss: 0.1762 - val_acc: 0.9498\n",
      "Epoch 47/50\n",
      "7894/7894 [==============================] - 1s 162us/step - loss: 0.0732 - acc: 0.9719 - val_loss: 0.1810 - val_acc: 0.9498\n",
      "Epoch 48/50\n",
      "7894/7894 [==============================] - 1s 145us/step - loss: 0.0738 - acc: 0.9712 - val_loss: 0.1653 - val_acc: 0.9521\n",
      "Epoch 49/50\n",
      "7894/7894 [==============================] - 1s 132us/step - loss: 0.0701 - acc: 0.9737 - val_loss: 0.1903 - val_acc: 0.9502\n",
      "Epoch 50/50\n",
      "7894/7894 [==============================] - 1s 116us/step - loss: 0.0766 - acc: 0.9716 - val_loss: 0.1768 - val_acc: 0.9468\n"
     ]
    }
   ],
   "source": [
    "from keras.models import Sequential\n",
    "from keras.layers import Conv1D, Dense, MaxPooling1D, GlobalMaxPooling1D, Reshape, Flatten\n",
    "\n",
    "\n",
    "classifier_model = Sequential()\n",
    "classifier_model.add(Reshape((len(x[0]), 1), input_shape=(len(x[0]),)))\n",
    "classifier_model.add(Conv1D(50, 16, activation='relu'))\n",
    "classifier_model.add(MaxPooling1D(pool_size=2))\n",
    "classifier_model.add(Conv1D(50, 16, activation='relu'))\n",
    "classifier_model.add(GlobalMaxPooling1D())\n",
    "classifier_model.add(Dense(50, activation='relu'))\n",
    "classifier_model.add(Dense(32, activation='relu'))\n",
    "classifier_model.add(Dense(28, activation='relu'))\n",
    "classifier_model.add(Dense(24, activation='relu'))\n",
    "classifier_model.add(Dense(16, activation='relu'))\n",
    "classifier_model.add(Dense(8, activation='relu'))\n",
    "classifier_model.add(Dense(6, activation='softmax'))\n",
    "\n",
    "classifier_model.compile(optimizer='adam', loss='categorical_crossentropy', metrics=['accuracy'])\n",
    "classifier_model.summary()\n",
    "\n",
    "history = classifier_model.fit(x_train, y_train,\n",
    "                               epochs=50,\n",
    "                               batch_size = 16,\n",
    "                               shuffle=True,\n",
    "                               validation_data=(x_test, y_test)) "
   ]
  },
  {
   "cell_type": "code",
   "execution_count": 5,
   "metadata": {},
   "outputs": [
    {
     "data": {
      "image/png": "[encoded data removed]",
      "text/plain": [
       "<Figure size 864x432 with 2 Axes>"
      ]
     },
     "metadata": {
      "needs_background": "light"
     },
     "output_type": "display_data"
    }
   ],
   "source": [
    "%%capture --no-display \n",
    "\n",
    "import matplotlib.pyplot as plt\n",
    "\n",
    "# set up figure\n",
    "f = plt.figure(figsize=(12,6))\n",
    "f.add_subplot(1,2, 1)\n",
    "\n",
    "# plot accuracy as a function of epoch\n",
    "plt.plot(history.history['acc'])\n",
    "plt.plot(history.history['val_acc'])\n",
    "plt.title('Model Accuracy')\n",
    "plt.ylabel('accuracy')\n",
    "plt.xlabel('epoch')\n",
    "plt.legend(['training', 'validation'], loc='best')\n",
    "\n",
    "# plot loss as a function of epoch\n",
    "f.add_subplot(1,2, 2)\n",
    "plt.plot(history.history['loss'])\n",
    "plt.plot(history.history['val_loss'])\n",
    "plt.title('Model Loss')\n",
    "plt.ylabel('loss')\n",
    "plt.xlabel('epoch')\n",
    "plt.legend(['training', 'validation'], loc='best')\n",
    "plt.show(block=True)"
   ]
  },
  {
   "cell_type": "markdown",
   "metadata": {},
   "source": [
    "## Validation"
   ]
  },
  {
   "cell_type": "code",
   "execution_count": 6,
   "metadata": {
    "scrolled": true
   },
   "outputs": [
    {
     "name": "stdout",
     "output_type": "stream",
     "text": [
      "14343/14343 [==============================] - 0s 10us/step\n",
      "14343/14343 [==============================] - 0s 21us/step\n"
     ]
    }
   ],
   "source": [
    "import csv\n",
    "from ml_utils import grab_labels, feature_from_file, translate_bytes, features_from_list\n",
    "\n",
    "validation_set = \"/Users/ryan/Documents/CS/CDAC/xtract_autoencoder/automated_training_results/cdiac_naivetruth.csv\"\n",
    "\n",
    "validation_labels, validation_paths = grab_labels(validation_set)\n",
    "validation_labels.pop(0) #Gets rid of headers\n",
    "validation_paths.pop(0)\n",
    "\n",
    "validation_features = features_from_list(validation_paths)\n",
    "\n",
    "validation_encoded = encoder.predict(translate_bytes(validation_features) / 255, verbose=True)\n",
    "validation_labels = to_categorical(le.transform(validation_labels), 6)\n",
    "validation_predictions = classifier_model.predict(validation_encoded, verbose=True)"
   ]
  },
  {
   "cell_type": "code",
   "execution_count": 7,
   "metadata": {
    "scrolled": true
   },
   "outputs": [
    {
     "data": {
      "image/png": "[encoded data removed]",
      "text/plain": [
       "<Figure size 432x288 with 2 Axes>"
      ]
     },
     "metadata": {
      "needs_background": "light"
     },
     "output_type": "display_data"
    }
   ],
   "source": [
    "from ml_utils import convert_to_index, plot_confusion_matrix\n",
    "from pycm import ConfusionMatrix\n",
    "import numpy as np\n",
    "\n",
    "# apply conversion function to data\n",
    "y_test_ind = convert_to_index(validation_labels)\n",
    "y_pred_test_ind = convert_to_index(validation_predictions)\n",
    "\n",
    "# compute confusion matrix\n",
    "cm_test = ConfusionMatrix(y_test_ind, y_pred_test_ind)\n",
    "np.set_printoptions(precision=2)\n",
    "\n",
    "# plot confusion matrix result\n",
    "plt.figure()\n",
    "plot_confusion_matrix(cm_test,title='confusion matrix')"
   ]
  },
  {
   "cell_type": "code",
   "execution_count": 8,
   "metadata": {},
   "outputs": [
    {
     "name": "stdout",
     "output_type": "stream",
     "text": [
      "0.8459178693439309\n"
     ]
    }
   ],
   "source": [
    "from sklearn.metrics import accuracy_score, recall_score, precision_score\n",
    "\n",
    "validation_accuracy = accuracy_score(y_test_ind, y_pred_test_ind)\n",
    "validation_recall = recall_score(y_test_ind, y_pred_test_ind, average='micro')\n",
    "\n",
    "print(validation_accuracy)"
   ]
  },
  {
   "cell_type": "code",
   "execution_count": null,
   "metadata": {},
   "outputs": [],
   "source": []
  }
 ],
 "metadata": {
  "colab": {
   "collapsed_sections": [],
   "name": "file_autoencoder.ipynb",
   "provenance": []
  },
  "kernelspec": {
   "display_name": "Python 3",
   "language": "python",
   "name": "python3"
  },
  "language_info": {
   "codemirror_mode": {
    "name": "ipython",
    "version": 3
   },
   "file_extension": ".py",
   "mimetype": "text/x-python",
   "name": "python",
   "nbconvert_exporter": "python",
   "pygments_lexer": "ipython3",
   "version": "3.7.3"
  }
 },
 "nbformat": 4,
 "nbformat_minor": 1
}
