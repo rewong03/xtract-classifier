{
 "cells": [
  {
   "cell_type": "markdown",
   "metadata": {},
   "source": [
    "## Functions to grab features from a directory"
   ]
  },
  {
   "cell_type": "code",
   "execution_count": null,
   "metadata": {
    "colab": {
     "base_uri": "https://localhost:8080/",
     "height": 119
    },
    "colab_type": "code",
    "id": "ktb3NKMBoSTv",
    "outputId": "253ee7d9-48e3-4dd7-e871-7734e573deaa"
   },
   "outputs": [],
   "source": [
    "import os\n",
    "import numpy as np\n",
    "\n",
    "def feature_from_file(file_path, feature_type=\"head\", byte_num=512): # will add more feature_type later\n",
    "    \"\"\"Retreives features from a file.\n",
    "  \n",
    "    Parameters:\n",
    "    feature_type (str): \"head\" to get bytes from head of the file.\n",
    "    byte_num (int): Number of bytes to grab.\n",
    "    file_path (str): File path of file to get features from.\n",
    "    \n",
    "    Returns:\n",
    "    List of bytes from file_path. \n",
    "    \"\"\"\n",
    "    with open(file_path, 'rb') as f:\n",
    "        byte = f.read(1)\n",
    "        index = 1\n",
    "        features = []\n",
    "    \n",
    "        while byte and index <= byte_num:\n",
    "            features.append(byte)\n",
    "            index += 1\n",
    "            byte = f.read(1)\n",
    "        \n",
    "        if len(features) < byte_num:\n",
    "            features.extend([b'' for i in range(byte_num - len(features))])\n",
    "\n",
    "        assert len(features) == byte_num\n",
    "        return features\n",
    "\n",
    "def feature_from_dir(dir_path, feature_type=\"head\", byte_num=512):\n",
    "    \"\"\"Takes a directory and grabs features from each file.\n",
    "    \n",
    "    Parameters:\n",
    "    dir_path (str): Path of directory to take features from.\n",
    "    feature_type (str): Type of features to get.\n",
    "    byte_num (str): Number of features to take\n",
    "    \n",
    "    Return:\n",
    "    features (list): List containing a list of byte_num bytes from each fie in dir_path.\n",
    "    \"\"\"\n",
    "    features = []\n",
    "    for (dirpath, dirnames, filenames) in os.walk(dir_path):\n",
    "        for filename in filenames:\n",
    "            features.append(feature_from_file(os.path.join(dirpath, filename), feature_type, byte_num))\n",
    "    \n",
    "    return features\n",
    "\n",
    "def translate_bytes(dir_features):\n",
    "    \"\"\"Translates bytes into integers.\n",
    "    \n",
    "    Parameter:\n",
    "    dir_features (list): List containing lists of bytes.\n",
    "    \n",
    "    Return:\n",
    "    translated_features (numpy array): dir_features with bytes translated to integers.\n",
    "    \"\"\"\n",
    "    translated_features = np.zeros((len(dir_features), len(dir_features[0])))\n",
    "    \n",
    "    for idx, file_features in enumerate(dir_features):\n",
    "        translated_features[idx] = np.array([int.from_bytes(c, byteorder=\"big\") for c in file_features])\n",
    "    \n",
    "    return translated_features"
   ]
  },
  {
   "cell_type": "markdown",
   "metadata": {},
   "source": [
    "## Feature preprocessing"
   ]
  },
  {
   "cell_type": "code",
   "execution_count": 42,
   "metadata": {},
   "outputs": [],
   "source": [
    "from sklearn.model_selection import train_test_split\n",
    "\n",
    "test_set_dir = '/Users/ryan/Documents'\n",
    "x = translate_bytes(feature_from_dir(test_set_dir, byte_num=1024))\n",
    "x = x / 255\n",
    "\n",
    "x_train, x_test, _, _ = train_test_split(x, x)"
   ]
  },
  {
   "cell_type": "markdown",
   "metadata": {},
   "source": [
    "## Keras model"
   ]
  },
  {
   "cell_type": "code",
   "execution_count": null,
   "metadata": {
    "scrolled": false
   },
   "outputs": [
    {
     "name": "stdout",
     "output_type": "stream",
     "text": [
      "_________________________________________________________________\n",
      "Layer (type)                 Output Shape              Param #   \n",
      "=================================================================\n",
      "input_20 (InputLayer)        (None, 1024)              0         \n",
      "_________________________________________________________________\n",
      "dense_122 (Dense)            (None, 512)               524800    \n",
      "_________________________________________________________________\n",
      "dense_123 (Dense)            (None, 256)               131328    \n",
      "_________________________________________________________________\n",
      "dense_124 (Dense)            (None, 128)               32896     \n",
      "_________________________________________________________________\n",
      "dense_125 (Dense)            (None, 64)                8256      \n",
      "_________________________________________________________________\n",
      "dense_126 (Dense)            (None, 128)               8320      \n",
      "_________________________________________________________________\n",
      "dense_127 (Dense)            (None, 256)               33024     \n",
      "_________________________________________________________________\n",
      "dense_128 (Dense)            (None, 512)               131584    \n",
      "_________________________________________________________________\n",
      "dense_129 (Dense)            (None, 1024)              525312    \n",
      "=================================================================\n",
      "Total params: 1,395,520\n",
      "Trainable params: 1,395,520\n",
      "Non-trainable params: 0\n",
      "_________________________________________________________________\n",
      "Train on 94162 samples, validate on 31388 samples\n",
      "Epoch 1/100\n",
      "88320/94162 [===========================>..] - ETA: 0s - loss: 0.5009 - acc: 0.1962"
     ]
    }
   ],
   "source": [
    "from keras.models import Model\n",
    "from keras.layers import Input, Dense\n",
    "\n",
    "input_size = len(x_train[0])\n",
    "\n",
    "input_layer = Input((input_size,))\n",
    "encoded = Dense(512, activation='relu')(input_layer)\n",
    "encoded = Dense(256, activation='relu')(encoded)\n",
    "encoded = Dense(128, activation='relu')(encoded)\n",
    "encoded = Dense(64, activation='relu')(encoded)\n",
    "\n",
    "decoded = Dense(128, activation='relu')(encoded)\n",
    "decoded = Dense(256, activation='relu')(decoded)\n",
    "decoded = Dense(512, activation='relu')(decoded)\n",
    "decoded = Dense(input_size, activation='sigmoid')(decoded)\n",
    "\n",
    "autoencoder = Model(inputs=input_layer, outputs=decoded)\n",
    "autoencoder.compile(optimizer='adadelta', loss='binary_crossentropy', metrics=['accuracy'])\n",
    "autoencoder.summary()\n",
    "\n",
    "history = autoencoder.fit(x_train, x_train,\n",
    "                          epochs=100,\n",
    "                          batch_size = 256,\n",
    "                          shuffle=True,\n",
    "                          validation_data=(x_test, x_test))\n",
    "\n",
    "encoder = Model(input_layer, encoded)"
   ]
  },
  {
   "cell_type": "markdown",
   "metadata": {},
   "source": [
    "## Results visualization"
   ]
  },
  {
   "cell_type": "code",
   "execution_count": 39,
   "metadata": {},
   "outputs": [
    {
     "data": {
      "image/png": "[encoded data removed]",
      "text/plain": [
       "<Figure size 864x360 with 2 Axes>"
      ]
     },
     "metadata": {
      "needs_background": "light"
     },
     "output_type": "display_data"
    }
   ],
   "source": [
    "%%capture --no-display \n",
    "import matplotlib.pyplot as plt\n",
    "\n",
    "# set up figure\n",
    "f = plt.figure(figsize=(12,5))\n",
    "f.add_subplot(1,2, 1)\n",
    "\n",
    "# plot accuracy as a function of epoch\n",
    "plt.plot(history.history['acc'])\n",
    "plt.plot(history.history['val_acc'])\n",
    "plt.title('model accuracy')\n",
    "plt.ylabel('accuracy')\n",
    "plt.xlabel('epoch')\n",
    "plt.legend(['training', 'validation'], loc='best')\n",
    "\n",
    "# plot loss as a function of epoch\n",
    "f.add_subplot(1,2, 2)\n",
    "plt.plot(history.history['loss'])\n",
    "plt.plot(history.history['val_loss'])\n",
    "plt.title('model loss')\n",
    "plt.ylabel('loss')\n",
    "plt.xlabel('epoch')\n",
    "plt.legend(['training', 'validation'], loc='best')\n",
    "plt.show(block=True)"
   ]
  },
  {
   "cell_type": "code",
   "execution_count": null,
   "metadata": {},
   "outputs": [],
   "source": []
  }
 ],
 "metadata": {
  "colab": {
   "collapsed_sections": [],
   "name": "file_autoencoder.ipynb",
   "provenance": []
  },
  "kernelspec": {
   "display_name": "Python 3",
   "language": "python",
   "name": "python3"
  },
  "language_info": {
   "codemirror_mode": {
    "name": "ipython",
    "version": 3
   },
   "file_extension": ".py",
   "mimetype": "text/x-python",
   "name": "python",
   "nbconvert_exporter": "python",
   "pygments_lexer": "ipython3",
   "version": "3.7.3"
  }
 },
 "nbformat": 4,
 "nbformat_minor": 1
}
