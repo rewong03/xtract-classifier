{
  "nbformat": 4,
  "nbformat_minor": 0,
  "metadata": {
    "kernelspec": {
      "display_name": "Python 3",
      "language": "python",
      "name": "python3"
    },
    "language_info": {
      "codemirror_mode": {
        "name": "ipython",
        "version": 3
      },
      "file_extension": ".py",
      "mimetype": "text/x-python",
      "name": "python",
      "nbconvert_exporter": "python",
      "pygments_lexer": "ipython3",
      "version": "3.7.3"
    },
    "colab": {
      "name": "file_autoencoder.ipynb",
      "provenance": [],
      "collapsed_sections": []
    }
  },
  "cells": [
    {
      "cell_type": "code",
      "metadata": {
        "id": "ktb3NKMBoSTv",
        "colab_type": "code",
        "colab": {
          "base_uri": "https://localhost:8080/",
          "height": 119
        },
        "outputId": "253ee7d9-48e3-4dd7-e871-7734e573deaa"
      },
      "source": [
        "# feature grabbing\n",
        "import os\n",
        "\n",
        "def feature_from_file(file_path, feature_type=\"head\", byte_num=512): # will add more feature_type later\n",
        "  \"\"\"Retreives features from a file.\n",
        "  \n",
        "  Parameters:\n",
        "  feature_type (str): \"head\" to get bytes from head of the file.\n",
        "  byte_num (int): Number of bytes to grab.\n",
        "  file_path (str): File path of file to get features from.\n",
        "  \n",
        "  Returns:\n",
        "  List of bytes from file_path. \n",
        "  \"\"\"\n",
        "  with open(file_path, 'rb') as f:\n",
        "    byte = f.read(1)\n",
        "    index = 1\n",
        "    features = []\n",
        "    \n",
        "    while byte and index <= byte_num:\n",
        "      features.append(byte)\n",
        "      index += 1\n",
        "      byte = f.read(1)\n",
        "\n",
        "  if len(features) < byte_num:\n",
        "    features.extend([b'' for i in range(byte_num - len(features))])\n",
        "  \n",
        "  assert len(features) == byte_num\n",
        "  return features\n",
        "\n",
        "def feature_from_dir(dir_path, feature_type=\"head\", byte_num=512):\n",
        "  for (dirpath, dirnames, filenames) in os.walk(dir_path):\n",
        "       for filename in filenames:\n",
        "        print('cool')\n",
        "\n",
        "feature_from_dir('/content/sample_data')"
      ],
      "execution_count": 24,
      "outputs": [
        {
          "output_type": "stream",
          "text": [
            "cool\n",
            "cool\n",
            "cool\n",
            "cool\n",
            "cool\n",
            "cool\n"
          ],
          "name": "stdout"
        }
      ]
    }
  ]
}